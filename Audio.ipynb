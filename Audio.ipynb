{
 "cells": [
  {
   "cell_type": "code",
   "execution_count": null,
   "metadata": {},
   "outputs": [],
   "source": [
    "!pip install numpy matplotlib librosa youtube-dl"
   ]
  },
  {
   "cell_type": "code",
   "execution_count": null,
   "metadata": {},
   "outputs": [],
   "source": [
    "!youtube-dl -f 251 Rh830QhsnSQ buimPG01gcs"
   ]
  },
  {
   "cell_type": "code",
   "execution_count": null,
   "metadata": {},
   "outputs": [],
   "source": [
    "%pylab inline"
   ]
  },
  {
   "cell_type": "code",
   "execution_count": null,
   "metadata": {},
   "outputs": [],
   "source": [
    "import librosa\n",
    "import librosa.display\n",
    "import IPython.display\n",
    "import soundfile as sf"
   ]
  },
  {
   "cell_type": "code",
   "execution_count": null,
   "metadata": {},
   "outputs": [],
   "source": [
    "%%time\n",
    "talk_samples, sample_rate = librosa.load('🎹 Gama Do major (tutorial pian cu note + digitație)-Rh830QhsnSQ.webm')\n",
    "assert sample_rate == 22050"
   ]
  },
  {
   "cell_type": "code",
   "execution_count": null,
   "metadata": {},
   "outputs": [],
   "source": [
    "print(talk_samples.shape)  # wypisywanie\n",
    "talk_samples  # ostatnia linijka jest wyświetlana bez jawnego print"
   ]
  },
  {
   "cell_type": "code",
   "execution_count": null,
   "metadata": {},
   "outputs": [],
   "source": [
    "N_FFT = 2048  # default"
   ]
  },
  {
   "cell_type": "code",
   "execution_count": null,
   "metadata": {},
   "outputs": [],
   "source": [
    "print(len(talk_samples) / sample_rate, 's')\n",
    "S = 310_000\n",
    "N = 1000\n",
    "plt.figure(figsize=(17, 7))\n",
    "librosa.display.waveplot(talk_samples[S:S+N], sr=sample_rate)"
   ]
  },
  {
   "cell_type": "code",
   "execution_count": null,
   "metadata": {},
   "outputs": [],
   "source": [
    "print(len(talk_samples) / sample_rate, 's')\n",
    "plt.figure(figsize=(17, 7))\n",
    "S = 310_069\n",
    "N = 252\n",
    "librosa.display.waveplot(talk_samples[S:S+N], sr=sample_rate, alpha=0.3)\n",
    "plt.plot(np.arange(N)/sample_rate, talk_samples[S:S+N])\n",
    "sample_rate / (252 / 3)"
   ]
  },
  {
   "cell_type": "code",
   "execution_count": null,
   "metadata": {},
   "outputs": [],
   "source": [
    "IPython.display.Audio(talk_samples[300_000:360_000], rate=sample_rate)"
   ]
  },
  {
   "cell_type": "code",
   "execution_count": null,
   "metadata": {},
   "outputs": [],
   "source": [
    "talk_stft = librosa.stft(talk_samples[300_000:360_000], n_fft=N_FFT)\n",
    "talk_db = librosa.amplitude_to_db(abs(talk_stft))\n",
    "talk_samples[300_000:360_000].shape, talk_stft.shape, talk_db.shape"
   ]
  },
  {
   "cell_type": "code",
   "execution_count": null,
   "metadata": {},
   "outputs": [],
   "source": [
    "plt.figure(figsize=(17, 12))\n",
    "librosa.display.specshow(talk_db, sr=sample_rate, x_axis='time', y_axis='hz')"
   ]
  },
  {
   "cell_type": "code",
   "execution_count": null,
   "metadata": {},
   "outputs": [],
   "source": [
    "plt.figure(figsize=(17, 12))\n",
    "xs = (np.arange(len(talk_stft)) + 0.5) * sample_rate / N_FFT\n",
    "R = slice(None, 100)\n",
    "for t in [0.5, 1.5, 2.5]:\n",
    "    fq = int(4 * t * sample_rate / N_FFT)\n",
    "    plt.plot(xs[R], abs(talk_stft[R, fq]), label=f'{t:.01f}s [{fq}]')\n",
    "plt.legend()\n",
    "#plt.plot(xs[R], abs(talk_db[R, 30]))"
   ]
  },
  {
   "cell_type": "code",
   "execution_count": null,
   "metadata": {},
   "outputs": [],
   "source": [
    "restored_samples = librosa.istft(talk_stft)\n",
    "plt.figure(figsize=(17, 7))\n",
    "plt.subplot(121)\n",
    "plt.plot(talk_samples[300_000:301_000])\n",
    "plt.subplot(122)\n",
    "plt.plot(restored_samples[:1_000])"
   ]
  },
  {
   "cell_type": "code",
   "execution_count": null,
   "metadata": {},
   "outputs": [],
   "source": [
    "# %time sf.write('output.flac', talk_samples, sample_rate, format='flac', subtype='PCM_24')"
   ]
  },
  {
   "cell_type": "code",
   "execution_count": null,
   "metadata": {},
   "outputs": [],
   "source": [
    "%%time\n",
    "tune_samples, sample_rate = librosa.load('Tuning Note - A-buimPG01gcs.webm')\n",
    "assert sample_rate == 22050"
   ]
  },
  {
   "cell_type": "code",
   "execution_count": null,
   "metadata": {},
   "outputs": [],
   "source": [
    "plt.figure(figsize=(17, 7))\n",
    "S = 200_022\n",
    "N = 302\n",
    "librosa.display.waveplot(tune_samples[S:S+N], sr=sample_rate, alpha=0.3)\n",
    "plt.plot(np.arange(N)/sample_rate, tune_samples[S:S+N])\n",
    "sample_rate / (302 / 6), sample_rate / (301 / 6)"
   ]
  },
  {
   "cell_type": "code",
   "execution_count": null,
   "metadata": {},
   "outputs": [],
   "source": [
    "N_FFT = 2048 * 16\n",
    "tune_stft = librosa.stft(tune_samples, n_fft=N_FFT)\n",
    "tune_stft.shape"
   ]
  },
  {
   "cell_type": "code",
   "execution_count": null,
   "metadata": {},
   "outputs": [],
   "source": [
    "plt.figure(figsize=(17, 12))\n",
    "plt.grid()\n",
    "xs = (np.arange(len(tune_stft)) + 0.5) * sample_rate / N_FFT\n",
    "R = slice(N_FFT // 54, N_FFT // 44)\n",
    "for t in [10]:\n",
    "    fq = int(4 * t * sample_rate / N_FFT)\n",
    "    plt.plot(xs[R], abs(tune_stft[R, fq]), label=f'{t:.01f}s [{fq}]')\n",
    "    plt.scatter(xs[R], abs(tune_stft[R, fq]))\n",
    "plt.legend()\n",
    "#plt.plot(xs[R], abs(talk_db[R, 30]))"
   ]
  },
  {
   "cell_type": "code",
   "execution_count": null,
   "metadata": {},
   "outputs": [],
   "source": []
  }
 ],
 "metadata": {
  "language_info": {
   "name": "plaintext"
  },
  "orig_nbformat": 4
 },
 "nbformat": 4,
 "nbformat_minor": 2
}
